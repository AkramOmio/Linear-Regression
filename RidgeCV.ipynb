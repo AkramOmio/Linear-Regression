{
 "cells": [
  {
   "cell_type": "markdown",
   "id": "1d8a01da",
   "metadata": {},
   "source": [
    "# Import"
   ]
  },
  {
   "cell_type": "code",
   "execution_count": 1,
   "id": "512bcf57",
   "metadata": {},
   "outputs": [],
   "source": [
    "import numpy as np\n",
    "import pandas as pd\n",
    "import matplotlib.pyplot as plt\n",
    "import seaborn as sns"
   ]
  },
  {
   "cell_type": "markdown",
   "id": "85bd08f2",
   "metadata": {},
   "source": [
    "# Data setup"
   ]
  },
  {
   "cell_type": "code",
   "execution_count": 2,
   "id": "f5d206df",
   "metadata": {},
   "outputs": [],
   "source": [
    "df=pd.read_csv(\"Advertising.csv\")\n",
    "X=df.drop('sales',axis=1)\n",
    "y=df['sales']"
   ]
  },
  {
   "cell_type": "markdown",
   "id": "ea091fa2",
   "metadata": {},
   "source": [
    "# Polynomial Conversion"
   ]
  },
  {
   "cell_type": "code",
   "execution_count": 3,
   "id": "bcd649e2",
   "metadata": {},
   "outputs": [],
   "source": [
    "from sklearn.preprocessing import PolynomialFeatures\n",
    "polynomial_converter=PolynomialFeatures(degree=3,include_bias=False)\n",
    "poly_features=polynomial_converter.fit_transform(X)"
   ]
  },
  {
   "cell_type": "markdown",
   "id": "d895fb64",
   "metadata": {},
   "source": [
    "# Train | Test Split"
   ]
  },
  {
   "cell_type": "code",
   "execution_count": 4,
   "id": "05b012cf",
   "metadata": {},
   "outputs": [],
   "source": [
    "from sklearn.model_selection import train_test_split\n",
    "X_train, X_test,y_train,y_test=train_test_split(poly_features,y,test_size=0.3,random_state=101)"
   ]
  },
  {
   "cell_type": "markdown",
   "id": "de6c3972",
   "metadata": {},
   "source": [
    "# Scalling the Data"
   ]
  },
  {
   "cell_type": "code",
   "execution_count": 5,
   "id": "08651008",
   "metadata": {},
   "outputs": [],
   "source": [
    "from sklearn.preprocessing import StandardScaler\n",
    "scaler=StandardScaler()\n",
    "scaler.fit(X_train)\n",
    "X_train=scaler.transform(X_train)\n",
    "X_test=scaler.transform(X_test)"
   ]
  },
  {
   "cell_type": "markdown",
   "id": "bd098369",
   "metadata": {},
   "source": [
    "# RidgeCv"
   ]
  },
  {
   "cell_type": "code",
   "execution_count": 8,
   "id": "d00edb67",
   "metadata": {},
   "outputs": [
    {
     "data": {
      "text/plain": [
       "RidgeCV(alphas=array([ 0.1,  1. , 10. ]), scoring='neg_mean_absolute_error')"
      ]
     },
     "execution_count": 8,
     "metadata": {},
     "output_type": "execute_result"
    }
   ],
   "source": [
    "from sklearn.linear_model import RidgeCV\n",
    "ridge_cv_model=RidgeCV(alphas=(0.1,1.0,10.0),scoring='neg_mean_absolute_error')\n",
    "ridge_cv_model.fit(X_train,y_train)"
   ]
  },
  {
   "cell_type": "code",
   "execution_count": 9,
   "id": "ea4d1963",
   "metadata": {},
   "outputs": [
    {
     "data": {
      "text/plain": [
       "0.1"
      ]
     },
     "execution_count": 9,
     "metadata": {},
     "output_type": "execute_result"
    }
   ],
   "source": [
    "ridge_cv_model.alpha_"
   ]
  },
  {
   "cell_type": "code",
   "execution_count": 11,
   "id": "66b91abd",
   "metadata": {},
   "outputs": [],
   "source": [
    "test_predictions=ridge_cv_model.predict(X_test)"
   ]
  },
  {
   "cell_type": "markdown",
   "id": "951f2826",
   "metadata": {},
   "source": [
    "# Performance"
   ]
  },
  {
   "cell_type": "code",
   "execution_count": null,
   "id": "11cf86d5",
   "metadata": {},
   "outputs": [],
   "source": []
  }
 ],
 "metadata": {
  "kernelspec": {
   "display_name": "Python 3 (ipykernel)",
   "language": "python",
   "name": "python3"
  },
  "language_info": {
   "codemirror_mode": {
    "name": "ipython",
    "version": 3
   },
   "file_extension": ".py",
   "mimetype": "text/x-python",
   "name": "python",
   "nbconvert_exporter": "python",
   "pygments_lexer": "ipython3",
   "version": "3.9.13"
  }
 },
 "nbformat": 4,
 "nbformat_minor": 5
}
